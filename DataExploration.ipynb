{
 "cells": [
  {
   "cell_type": "markdown",
   "id": "de351d23-2dab-4319-a30e-9f4884c2836c",
   "metadata": {},
   "source": [
    "## Exploring a real-world dataset containing flights data from the US Department of Transportation."
   ]
  },
  {
   "cell_type": "code",
   "execution_count": 1,
   "id": "8ce773b0-e7f5-4091-8503-6facd314de4b",
   "metadata": {},
   "outputs": [
    {
     "data": {
      "text/html": [
       "<div>\n",
       "<style scoped>\n",
       "    .dataframe tbody tr th:only-of-type {\n",
       "        vertical-align: middle;\n",
       "    }\n",
       "\n",
       "    .dataframe tbody tr th {\n",
       "        vertical-align: top;\n",
       "    }\n",
       "\n",
       "    .dataframe thead th {\n",
       "        text-align: right;\n",
       "    }\n",
       "</style>\n",
       "<table border=\"1\" class=\"dataframe\">\n",
       "  <thead>\n",
       "    <tr style=\"text-align: right;\">\n",
       "      <th></th>\n",
       "      <th>Year</th>\n",
       "      <th>Month</th>\n",
       "      <th>DayofMonth</th>\n",
       "      <th>DayOfWeek</th>\n",
       "      <th>Carrier</th>\n",
       "      <th>OriginAirportID</th>\n",
       "      <th>OriginAirportName</th>\n",
       "      <th>OriginCity</th>\n",
       "      <th>OriginState</th>\n",
       "      <th>DestAirportID</th>\n",
       "      <th>DestAirportName</th>\n",
       "      <th>DestCity</th>\n",
       "      <th>DestState</th>\n",
       "      <th>CRSDepTime</th>\n",
       "      <th>DepDelay</th>\n",
       "      <th>DepDel15</th>\n",
       "      <th>CRSArrTime</th>\n",
       "      <th>ArrDelay</th>\n",
       "      <th>ArrDel15</th>\n",
       "      <th>Cancelled</th>\n",
       "    </tr>\n",
       "  </thead>\n",
       "  <tbody>\n",
       "    <tr>\n",
       "      <th>0</th>\n",
       "      <td>2013</td>\n",
       "      <td>9</td>\n",
       "      <td>16</td>\n",
       "      <td>1</td>\n",
       "      <td>DL</td>\n",
       "      <td>15304</td>\n",
       "      <td>Tampa International</td>\n",
       "      <td>Tampa</td>\n",
       "      <td>FL</td>\n",
       "      <td>12478</td>\n",
       "      <td>John F. Kennedy International</td>\n",
       "      <td>New York</td>\n",
       "      <td>NY</td>\n",
       "      <td>1539</td>\n",
       "      <td>4</td>\n",
       "      <td>0.0</td>\n",
       "      <td>1824</td>\n",
       "      <td>13</td>\n",
       "      <td>0</td>\n",
       "      <td>0</td>\n",
       "    </tr>\n",
       "    <tr>\n",
       "      <th>1</th>\n",
       "      <td>2013</td>\n",
       "      <td>9</td>\n",
       "      <td>23</td>\n",
       "      <td>1</td>\n",
       "      <td>WN</td>\n",
       "      <td>14122</td>\n",
       "      <td>Pittsburgh International</td>\n",
       "      <td>Pittsburgh</td>\n",
       "      <td>PA</td>\n",
       "      <td>13232</td>\n",
       "      <td>Chicago Midway International</td>\n",
       "      <td>Chicago</td>\n",
       "      <td>IL</td>\n",
       "      <td>710</td>\n",
       "      <td>3</td>\n",
       "      <td>0.0</td>\n",
       "      <td>740</td>\n",
       "      <td>22</td>\n",
       "      <td>1</td>\n",
       "      <td>0</td>\n",
       "    </tr>\n",
       "    <tr>\n",
       "      <th>2</th>\n",
       "      <td>2013</td>\n",
       "      <td>9</td>\n",
       "      <td>7</td>\n",
       "      <td>6</td>\n",
       "      <td>AS</td>\n",
       "      <td>14747</td>\n",
       "      <td>Seattle/Tacoma International</td>\n",
       "      <td>Seattle</td>\n",
       "      <td>WA</td>\n",
       "      <td>11278</td>\n",
       "      <td>Ronald Reagan Washington National</td>\n",
       "      <td>Washington</td>\n",
       "      <td>DC</td>\n",
       "      <td>810</td>\n",
       "      <td>-3</td>\n",
       "      <td>0.0</td>\n",
       "      <td>1614</td>\n",
       "      <td>-7</td>\n",
       "      <td>0</td>\n",
       "      <td>0</td>\n",
       "    </tr>\n",
       "    <tr>\n",
       "      <th>3</th>\n",
       "      <td>2013</td>\n",
       "      <td>7</td>\n",
       "      <td>22</td>\n",
       "      <td>1</td>\n",
       "      <td>OO</td>\n",
       "      <td>13930</td>\n",
       "      <td>Chicago O'Hare International</td>\n",
       "      <td>Chicago</td>\n",
       "      <td>IL</td>\n",
       "      <td>11042</td>\n",
       "      <td>Cleveland-Hopkins International</td>\n",
       "      <td>Cleveland</td>\n",
       "      <td>OH</td>\n",
       "      <td>804</td>\n",
       "      <td>35</td>\n",
       "      <td>1.0</td>\n",
       "      <td>1027</td>\n",
       "      <td>33</td>\n",
       "      <td>1</td>\n",
       "      <td>0</td>\n",
       "    </tr>\n",
       "    <tr>\n",
       "      <th>4</th>\n",
       "      <td>2013</td>\n",
       "      <td>5</td>\n",
       "      <td>16</td>\n",
       "      <td>4</td>\n",
       "      <td>DL</td>\n",
       "      <td>13931</td>\n",
       "      <td>Norfolk International</td>\n",
       "      <td>Norfolk</td>\n",
       "      <td>VA</td>\n",
       "      <td>10397</td>\n",
       "      <td>Hartsfield-Jackson Atlanta International</td>\n",
       "      <td>Atlanta</td>\n",
       "      <td>GA</td>\n",
       "      <td>545</td>\n",
       "      <td>-1</td>\n",
       "      <td>0.0</td>\n",
       "      <td>728</td>\n",
       "      <td>-9</td>\n",
       "      <td>0</td>\n",
       "      <td>0</td>\n",
       "    </tr>\n",
       "  </tbody>\n",
       "</table>\n",
       "</div>"
      ],
      "text/plain": [
       "   Year  Month  DayofMonth  DayOfWeek Carrier  OriginAirportID  \\\n",
       "0  2013      9          16          1      DL            15304   \n",
       "1  2013      9          23          1      WN            14122   \n",
       "2  2013      9           7          6      AS            14747   \n",
       "3  2013      7          22          1      OO            13930   \n",
       "4  2013      5          16          4      DL            13931   \n",
       "\n",
       "              OriginAirportName  OriginCity OriginState  DestAirportID  \\\n",
       "0           Tampa International       Tampa          FL          12478   \n",
       "1      Pittsburgh International  Pittsburgh          PA          13232   \n",
       "2  Seattle/Tacoma International     Seattle          WA          11278   \n",
       "3  Chicago O'Hare International     Chicago          IL          11042   \n",
       "4         Norfolk International     Norfolk          VA          10397   \n",
       "\n",
       "                            DestAirportName    DestCity DestState  CRSDepTime  \\\n",
       "0             John F. Kennedy International    New York        NY        1539   \n",
       "1              Chicago Midway International     Chicago        IL         710   \n",
       "2         Ronald Reagan Washington National  Washington        DC         810   \n",
       "3           Cleveland-Hopkins International   Cleveland        OH         804   \n",
       "4  Hartsfield-Jackson Atlanta International     Atlanta        GA         545   \n",
       "\n",
       "   DepDelay  DepDel15  CRSArrTime  ArrDelay  ArrDel15  Cancelled  \n",
       "0         4       0.0        1824        13         0          0  \n",
       "1         3       0.0         740        22         1          0  \n",
       "2        -3       0.0        1614        -7         0          0  \n",
       "3        35       1.0        1027        33         1          0  \n",
       "4        -1       0.0         728        -9         0          0  "
      ]
     },
     "execution_count": 1,
     "metadata": {},
     "output_type": "execute_result"
    }
   ],
   "source": [
    "import pandas as pd\n",
    "\n",
    "df_flights = pd.read_csv('flights.csv')\n",
    "df_flights.head()"
   ]
  },
  {
   "cell_type": "markdown",
   "id": "8f76f51c-b22f-4f2b-903f-e02b257173de",
   "metadata": {},
   "source": [
    "### NOTE\n",
    "\n",
    "* DepDelay: The number of minutes departure was delayed (flight that left ahead of schedule have a negative value)\n",
    "* DelDelay15: A binary indicator that departure was delayed by more than 15 minutes (and therefore considered \"late\")\n",
    "\n",
    "* ArrDelay: The number of minutes arrival was delayed (flight that arrived ahead of schedule have a negative value)\n",
    "* ArrDelay15: A binary indicator that arrival was delayed by more than 15 minutes (and therefore considered \"late\")"
   ]
  },
  {
   "cell_type": "code",
   "execution_count": 2,
   "id": "a0965955-d581-4766-93bf-38145133fcaf",
   "metadata": {},
   "outputs": [
    {
     "data": {
      "text/plain": [
       "(271940, 20)"
      ]
     },
     "execution_count": 2,
     "metadata": {},
     "output_type": "execute_result"
    }
   ],
   "source": [
    "df_flights.shape"
   ]
  },
  {
   "cell_type": "markdown",
   "id": "6b3e2fc9-7fad-4d93-b949-c5188dcef4c6",
   "metadata": {},
   "source": [
    "##### Check for missing values"
   ]
  },
  {
   "cell_type": "code",
   "execution_count": 3,
   "id": "384ca97c-42c4-4d28-8d00-70e8cd45cca5",
   "metadata": {},
   "outputs": [
    {
     "data": {
      "text/plain": [
       "Year                    0\n",
       "Month                   0\n",
       "DayofMonth              0\n",
       "DayOfWeek               0\n",
       "Carrier                 0\n",
       "OriginAirportID         0\n",
       "OriginAirportName       0\n",
       "OriginCity              0\n",
       "OriginState             0\n",
       "DestAirportID           0\n",
       "DestAirportName         0\n",
       "DestCity                0\n",
       "DestState               0\n",
       "CRSDepTime              0\n",
       "DepDelay                0\n",
       "DepDel15             2761\n",
       "CRSArrTime              0\n",
       "ArrDelay                0\n",
       "ArrDel15                0\n",
       "Cancelled               0\n",
       "dtype: int64"
      ]
     },
     "execution_count": 3,
     "metadata": {},
     "output_type": "execute_result"
    }
   ],
   "source": [
    "df_flights.isnull().sum()"
   ]
  },
  {
   "cell_type": "markdown",
   "id": "933191b1-0815-40fb-9066-1676b8b365ef",
   "metadata": {},
   "source": [
    "DepDel15 (Flight departed late) has 2761 missing values. Let's fill those values with 0  meaning those flights weren't delayed"
   ]
  },
  {
   "cell_type": "code",
   "execution_count": 4,
   "id": "07f7d31d-a06d-417d-a35b-c03c1676ab99",
   "metadata": {},
   "outputs": [],
   "source": [
    "df_flights['DepDel15'].fillna(0,inplace=True)"
   ]
  },
  {
   "cell_type": "code",
   "execution_count": 5,
   "id": "4e57bdd2-ef7f-4ea5-8cdc-4dc4a2a6955e",
   "metadata": {},
   "outputs": [
    {
     "data": {
      "text/plain": [
       "Year                 0\n",
       "Month                0\n",
       "DayofMonth           0\n",
       "DayOfWeek            0\n",
       "Carrier              0\n",
       "OriginAirportID      0\n",
       "OriginAirportName    0\n",
       "OriginCity           0\n",
       "OriginState          0\n",
       "DestAirportID        0\n",
       "DestAirportName      0\n",
       "DestCity             0\n",
       "DestState            0\n",
       "CRSDepTime           0\n",
       "DepDelay             0\n",
       "DepDel15             0\n",
       "CRSArrTime           0\n",
       "ArrDelay             0\n",
       "ArrDel15             0\n",
       "Cancelled            0\n",
       "dtype: int64"
      ]
     },
     "execution_count": 5,
     "metadata": {},
     "output_type": "execute_result"
    }
   ],
   "source": [
    "df_flights.isnull().sum()"
   ]
  },
  {
   "cell_type": "code",
   "execution_count": 6,
   "id": "f4c7dec5-f325-441e-8731-27a6a0b41bed",
   "metadata": {},
   "outputs": [
    {
     "data": {
      "text/plain": [
       "0.0    217799\n",
       "1.0     54141\n",
       "Name: DepDel15, dtype: int64"
      ]
     },
     "execution_count": 6,
     "metadata": {},
     "output_type": "execute_result"
    }
   ],
   "source": [
    "df_flights['DepDel15'].value_counts()"
   ]
  },
  {
   "cell_type": "markdown",
   "id": "54311b9e-c21e-41fd-b8d0-f19a253c9443",
   "metadata": {},
   "source": [
    "#### Identify and eliminate any outliers in the DepDelay and ArrDelay columns."
   ]
  },
  {
   "cell_type": "code",
   "execution_count": 7,
   "id": "e09c2875-f922-41cd-8dee-cf251df40b9c",
   "metadata": {},
   "outputs": [],
   "source": [
    "#\n",
    "dep_delay = df_flights['DepDelay']\n",
    "arr_delay = df_flights['ArrDelay']"
   ]
  },
  {
   "cell_type": "code",
   "execution_count": 8,
   "id": "a0835416-cba1-406e-bbd6-08bb16486e36",
   "metadata": {},
   "outputs": [],
   "source": [
    "import matplotlib.pyplot as plt\n",
    "%matplotlib inline"
   ]
  },
  {
   "cell_type": "code",
   "execution_count": 9,
   "id": "8d50fc08-e096-430a-9593-5d42d8ca67a4",
   "metadata": {},
   "outputs": [
    {
     "data": {
      "image/png": "[encoded data removed]",
      "text/plain": [
       "<Figure size 576x576 with 2 Axes>"
      ]
     },
     "metadata": {
      "needs_background": "light"
     },
     "output_type": "display_data"
    }
   ],
   "source": [
    "fig, ax = plt.subplots(2, 1, figsize=(8,8))\n",
    "\n",
    "ax[0].hist(dep_delay)\n",
    "ax[0].set_ylabel('Frequency')\n",
    "ax[0].set_xlabel('Minutes Departure was delayed')\n",
    "ax[0].axvline(dep_delay.mean(), color='red', linestyle='dashed')\n",
    "ax[0].axvline(dep_delay.median(), color='yellow', linestyle='dashed')\n",
    "\n",
    "\n",
    "ax[1].hist(arr_delay)\n",
    "ax[1].set_ylabel('Frequency')\n",
    "ax[1].set_xlabel('Minutes Arrival was delayed')\n",
    "ax[1].axvline(arr_delay.mean(), color='red', linestyle='dashed')\n",
    "ax[1].axvline(arr_delay.median(), color='yellow', linestyle='dashed')\n",
    "\n",
    "\n",
    "\n",
    "plt.suptitle('Distribution of Delay in Arrivals and Departure')\n",
    "\n",
    "plt.show()"
   ]
  },
  {
   "cell_type": "code",
   "execution_count": 10,
   "id": "59ac727f-d5cc-4435-bb58-3e0c9903333d",
   "metadata": {},
   "outputs": [
    {
     "name": "stdout",
     "output_type": "stream",
     "text": [
      "Mean of departure delay: 10.350448628373906\n",
      "Median of departure delay: -1.0\n",
      "Mode of departure delay: -3\n",
      "---------------------------------\n",
      "Mean of Arrivals delay: 6.496649996322718\n",
      "Median of Arrivals delay: -3.0\n",
      "Mode of Arrivals delay: 0\n"
     ]
    },
    {
     "data": {
      "image/png": "[encoded data removed]",
      "text/plain": [
       "<Figure size 720x720 with 2 Axes>"
      ]
     },
     "metadata": {
      "needs_background": "light"
     },
     "output_type": "display_data"
    }
   ],
   "source": [
    "# BOXPLOTS TO SHOW THE OUTLIERS\n",
    "fig, ax = plt.subplots(2, 1, figsize=(10,10))\n",
    "\n",
    "ax[0].boxplot(dep_delay, vert=False)\n",
    "ax[0].set_xlabel('Minutes Departure was Delayed')\n",
    "\n",
    "print(f'Mean of departure delay: {dep_delay.mean()}')\n",
    "print(f'Median of departure delay: {dep_delay.median()}')\n",
    "print(f'Mode of departure delay: {dep_delay.mode()[0]}')\n",
    "\n",
    "print('---------------------------------')\n",
    "ax[1].boxplot(arr_delay, vert=False)\n",
    "ax[1].set_xlabel('Minutes Arrival was Delayed')\n",
    "\n",
    "print(f'Mean of Arrivals delay: {arr_delay.mean()}')\n",
    "print(f'Median of Arrivals delay: {arr_delay.median()}')\n",
    "print(f'Mode of Arrivals delay: {arr_delay.mode()[0]}')\n",
    "\n",
    "#fig.show()"
   ]
  },
  {
   "cell_type": "code",
   "execution_count": null,
   "id": "d2491d8e-5dc8-46ce-b1f8-f71fdcee9405",
   "metadata": {},
   "outputs": [],
   "source": []
  },
  {
   "cell_type": "markdown",
   "id": "f8361202-5bd8-4241-8a81-24107712cfff",
   "metadata": {},
   "source": [
    "#### Identify and eliminate any outliers in the DepDelay and ArrDelay columns.\n",
    "\n",
    "* Let's consider values below the 5th percentile and above the 90th percentile as outliers"
   ]
  },
  {
   "cell_type": "code",
   "execution_count": 11,
   "id": "7f0dc03f-ee6a-4f53-a2d7-3e6d929cd91f",
   "metadata": {},
   "outputs": [],
   "source": [
    "# eliminating dep_delay outliers\n",
    "dep_delay_percentile_5 = dep_delay.quantile(.05) #DepDelay 5th percentile\n",
    "dep_delay_percentile_90 = dep_delay.quantile(.90) #DepDelay 90th percentile\n",
    "\n",
    "df_flights = df_flights[df_flights['DepDelay'] > dep_delay_percentile_5]\n",
    "df_flights = df_flights[df_flights['DepDelay']< dep_delay_percentile_90]"
   ]
  },
  {
   "cell_type": "code",
   "execution_count": 12,
   "id": "78c087e6-c850-40c0-91e8-c966468b5866",
   "metadata": {},
   "outputs": [],
   "source": [
    "#eliminating arr_delay outliers\n",
    "arr_delay_percentile_5 = arr_delay.quantile(.05) \n",
    "arr_delay_percentile_90 = arr_delay.quantile(.90)\n",
    "\n",
    "df_flights = df_flights[df_flights['ArrDelay'] > arr_delay_percentile_5]\n",
    "df_flights = df_flights[df_flights['ArrDelay']< arr_delay_percentile_90]"
   ]
  },
  {
   "cell_type": "markdown",
   "id": "254350e4-32c6-47bb-886d-e447a42fdb4c",
   "metadata": {},
   "source": [
    "* let's now show the distributions of both columns"
   ]
  },
  {
   "cell_type": "code",
   "execution_count": 13,
   "id": "066f8ca8-a1c0-4c09-aead-1a938c29d373",
   "metadata": {},
   "outputs": [],
   "source": [
    "def boxplot_hist(data_col):\n",
    "    import matplotlib.pyplot as plt\n",
    "    #plt.figure(figsize=(7,5))\n",
    "    fig,ax = plt.subplots(2,1, figsize=(8,8))\n",
    "    \n",
    "    ax[0].hist(data_col)\n",
    "    ax[0].axvline(data_col.mean(), color='red', linestyle='dashed')\n",
    "    ax[0].axvline(data_col.median(), color='orange', linestyle='dashed')\n",
    "\n",
    "    \n",
    "    ax[1].boxplot(data_col, vert=False)\n",
    "    ax[1].set_xlabel(f'{data_col.name}')\n",
    "\n",
    "    print(f'Mean of {data_col.name}: {data_col.mean()}')\n",
    "    print(f'Median of {data_col.name}: {data_col.median()}')\n",
    "    print(f'Mode of {data_col.name}: {data_col.mode()[0]}')\n",
    "\n",
    "    print('---------------------------------')"
   ]
  },
  {
   "cell_type": "code",
   "execution_count": 14,
   "id": "d99a1806-7aaa-4f4f-9da7-92947bc3804e",
   "metadata": {},
   "outputs": [
    {
     "name": "stdout",
     "output_type": "stream",
     "text": [
      "Mean of ArrDelay: -1.4346241872312715\n",
      "Median of ArrDelay: -3.0\n",
      "Mode of ArrDelay: 0\n",
      "---------------------------------\n"
     ]
    },
    {
     "data": {
      "image/png": "[encoded data removed]",
      "text/plain": [
       "<Figure size 576x576 with 2 Axes>"
      ]
     },
     "metadata": {
      "needs_background": "light"
     },
     "output_type": "display_data"
    }
   ],
   "source": [
    "boxplot_hist(df_flights['ArrDelay'])"
   ]
  },
  {
   "cell_type": "code",
   "execution_count": 15,
   "id": "a4ee6efa-c1ec-4c9f-89c2-810a094f8600",
   "metadata": {},
   "outputs": [
    {
     "name": "stdout",
     "output_type": "stream",
     "text": [
      "Mean of DepDelay: 2.315746885384048\n",
      "Median of DepDelay: -1.0\n",
      "Mode of DepDelay: -3\n",
      "---------------------------------\n"
     ]
    },
    {
     "data": {
      "image/png": "[encoded data removed]",
      "text/plain": [
       "<Figure size 576x576 with 2 Axes>"
      ]
     },
     "metadata": {
      "needs_background": "light"
     },
     "output_type": "display_data"
    }
   ],
   "source": [
    "boxplot_hist(df_flights['DepDelay'])"
   ]
  },
  {
   "cell_type": "markdown",
   "id": "9c976549-0d9c-4782-ac8a-5c2569cacc7e",
   "metadata": {},
   "source": [
    "* **The outliers have been removed greatly as seen**"
   ]
  },
  {
   "cell_type": "code",
   "execution_count": 16,
   "id": "f89374f7-1c20-466c-bb37-e855394dae05",
   "metadata": {},
   "outputs": [
    {
     "name": "stdout",
     "output_type": "stream",
     "text": [
      "New shape of dataframe: (208854, 20)\n"
     ]
    }
   ],
   "source": [
    "print(f'New shape of dataframe: {df_flights.shape}')"
   ]
  },
  {
   "cell_type": "code",
   "execution_count": null,
   "id": "8d70ca93-d46b-4b28-a8a1-0937765b561f",
   "metadata": {},
   "outputs": [],
   "source": []
  },
  {
   "cell_type": "markdown",
   "id": "342e07b5-78f6-430c-b9e2-132f4c36788d",
   "metadata": {},
   "source": [
    "#### View summary statistics for the numeric fields in the dataset."
   ]
  },
  {
   "cell_type": "code",
   "execution_count": 17,
   "id": "29bb7784-2e81-4ff4-ab7f-3d4249614aac",
   "metadata": {},
   "outputs": [
    {
     "data": {
      "text/html": [
       "<div>\n",
       "<style scoped>\n",
       "    .dataframe tbody tr th:only-of-type {\n",
       "        vertical-align: middle;\n",
       "    }\n",
       "\n",
       "    .dataframe tbody tr th {\n",
       "        vertical-align: top;\n",
       "    }\n",
       "\n",
       "    .dataframe thead th {\n",
       "        text-align: right;\n",
       "    }\n",
       "</style>\n",
       "<table border=\"1\" class=\"dataframe\">\n",
       "  <thead>\n",
       "    <tr style=\"text-align: right;\">\n",
       "      <th></th>\n",
       "      <th>Year</th>\n",
       "      <th>Month</th>\n",
       "      <th>DayofMonth</th>\n",
       "      <th>DayOfWeek</th>\n",
       "      <th>OriginAirportID</th>\n",
       "      <th>DestAirportID</th>\n",
       "      <th>CRSDepTime</th>\n",
       "      <th>DepDelay</th>\n",
       "      <th>DepDel15</th>\n",
       "      <th>CRSArrTime</th>\n",
       "      <th>ArrDelay</th>\n",
       "      <th>ArrDel15</th>\n",
       "      <th>Cancelled</th>\n",
       "    </tr>\n",
       "  </thead>\n",
       "  <tbody>\n",
       "    <tr>\n",
       "      <th>count</th>\n",
       "      <td>208854.0</td>\n",
       "      <td>208854.000000</td>\n",
       "      <td>208854.000000</td>\n",
       "      <td>208854.000000</td>\n",
       "      <td>208854.000000</td>\n",
       "      <td>208854.000000</td>\n",
       "      <td>208854.000000</td>\n",
       "      <td>208854.000000</td>\n",
       "      <td>208854.000000</td>\n",
       "      <td>208854.000000</td>\n",
       "      <td>208854.000000</td>\n",
       "      <td>208854.000000</td>\n",
       "      <td>208854.000000</td>\n",
       "    </tr>\n",
       "    <tr>\n",
       "      <th>mean</th>\n",
       "      <td>2013.0</td>\n",
       "      <td>6.999196</td>\n",
       "      <td>15.823882</td>\n",
       "      <td>3.901448</td>\n",
       "      <td>12741.745861</td>\n",
       "      <td>12738.344121</td>\n",
       "      <td>1302.697650</td>\n",
       "      <td>2.315747</td>\n",
       "      <td>0.116162</td>\n",
       "      <td>1484.172546</td>\n",
       "      <td>-1.434624</td>\n",
       "      <td>0.128903</td>\n",
       "      <td>0.013627</td>\n",
       "    </tr>\n",
       "    <tr>\n",
       "      <th>std</th>\n",
       "      <td>0.0</td>\n",
       "      <td>1.990908</td>\n",
       "      <td>8.818289</td>\n",
       "      <td>1.989333</td>\n",
       "      <td>1510.899138</td>\n",
       "      <td>1514.014783</td>\n",
       "      <td>467.638173</td>\n",
       "      <td>9.114443</td>\n",
       "      <td>0.320420</td>\n",
       "      <td>487.112998</td>\n",
       "      <td>12.162406</td>\n",
       "      <td>0.335094</td>\n",
       "      <td>0.115936</td>\n",
       "    </tr>\n",
       "    <tr>\n",
       "      <th>min</th>\n",
       "      <td>2013.0</td>\n",
       "      <td>4.000000</td>\n",
       "      <td>1.000000</td>\n",
       "      <td>1.000000</td>\n",
       "      <td>10140.000000</td>\n",
       "      <td>10140.000000</td>\n",
       "      <td>1.000000</td>\n",
       "      <td>-7.000000</td>\n",
       "      <td>0.000000</td>\n",
       "      <td>1.000000</td>\n",
       "      <td>-22.000000</td>\n",
       "      <td>0.000000</td>\n",
       "      <td>0.000000</td>\n",
       "    </tr>\n",
       "    <tr>\n",
       "      <th>25%</th>\n",
       "      <td>2013.0</td>\n",
       "      <td>5.000000</td>\n",
       "      <td>8.000000</td>\n",
       "      <td>2.000000</td>\n",
       "      <td>11292.000000</td>\n",
       "      <td>11292.000000</td>\n",
       "      <td>905.000000</td>\n",
       "      <td>-4.000000</td>\n",
       "      <td>0.000000</td>\n",
       "      <td>1110.000000</td>\n",
       "      <td>-10.000000</td>\n",
       "      <td>0.000000</td>\n",
       "      <td>0.000000</td>\n",
       "    </tr>\n",
       "    <tr>\n",
       "      <th>50%</th>\n",
       "      <td>2013.0</td>\n",
       "      <td>7.000000</td>\n",
       "      <td>16.000000</td>\n",
       "      <td>4.000000</td>\n",
       "      <td>12892.000000</td>\n",
       "      <td>12892.000000</td>\n",
       "      <td>1300.000000</td>\n",
       "      <td>-1.000000</td>\n",
       "      <td>0.000000</td>\n",
       "      <td>1505.000000</td>\n",
       "      <td>-3.000000</td>\n",
       "      <td>0.000000</td>\n",
       "      <td>0.000000</td>\n",
       "    </tr>\n",
       "    <tr>\n",
       "      <th>75%</th>\n",
       "      <td>2013.0</td>\n",
       "      <td>9.000000</td>\n",
       "      <td>23.000000</td>\n",
       "      <td>6.000000</td>\n",
       "      <td>14057.000000</td>\n",
       "      <td>14057.000000</td>\n",
       "      <td>1705.000000</td>\n",
       "      <td>5.000000</td>\n",
       "      <td>0.000000</td>\n",
       "      <td>1900.000000</td>\n",
       "      <td>5.000000</td>\n",
       "      <td>0.000000</td>\n",
       "      <td>0.000000</td>\n",
       "    </tr>\n",
       "    <tr>\n",
       "      <th>max</th>\n",
       "      <td>2013.0</td>\n",
       "      <td>10.000000</td>\n",
       "      <td>31.000000</td>\n",
       "      <td>7.000000</td>\n",
       "      <td>15376.000000</td>\n",
       "      <td>15376.000000</td>\n",
       "      <td>2359.000000</td>\n",
       "      <td>36.000000</td>\n",
       "      <td>1.000000</td>\n",
       "      <td>2359.000000</td>\n",
       "      <td>37.000000</td>\n",
       "      <td>1.000000</td>\n",
       "      <td>1.000000</td>\n",
       "    </tr>\n",
       "  </tbody>\n",
       "</table>\n",
       "</div>"
      ],
      "text/plain": [
       "           Year          Month     DayofMonth      DayOfWeek  OriginAirportID  \\\n",
       "count  208854.0  208854.000000  208854.000000  208854.000000    208854.000000   \n",
       "mean     2013.0       6.999196      15.823882       3.901448     12741.745861   \n",
       "std         0.0       1.990908       8.818289       1.989333      1510.899138   \n",
       "min      2013.0       4.000000       1.000000       1.000000     10140.000000   \n",
       "25%      2013.0       5.000000       8.000000       2.000000     11292.000000   \n",
       "50%      2013.0       7.000000      16.000000       4.000000     12892.000000   \n",
       "75%      2013.0       9.000000      23.000000       6.000000     14057.000000   \n",
       "max      2013.0      10.000000      31.000000       7.000000     15376.000000   \n",
       "\n",
       "       DestAirportID     CRSDepTime       DepDelay       DepDel15  \\\n",
       "count  208854.000000  208854.000000  208854.000000  208854.000000   \n",
       "mean    12738.344121    1302.697650       2.315747       0.116162   \n",
       "std      1514.014783     467.638173       9.114443       0.320420   \n",
       "min     10140.000000       1.000000      -7.000000       0.000000   \n",
       "25%     11292.000000     905.000000      -4.000000       0.000000   \n",
       "50%     12892.000000    1300.000000      -1.000000       0.000000   \n",
       "75%     14057.000000    1705.000000       5.000000       0.000000   \n",
       "max     15376.000000    2359.000000      36.000000       1.000000   \n",
       "\n",
       "          CRSArrTime       ArrDelay       ArrDel15      Cancelled  \n",
       "count  208854.000000  208854.000000  208854.000000  208854.000000  \n",
       "mean     1484.172546      -1.434624       0.128903       0.013627  \n",
       "std       487.112998      12.162406       0.335094       0.115936  \n",
       "min         1.000000     -22.000000       0.000000       0.000000  \n",
       "25%      1110.000000     -10.000000       0.000000       0.000000  \n",
       "50%      1505.000000      -3.000000       0.000000       0.000000  \n",
       "75%      1900.000000       5.000000       0.000000       0.000000  \n",
       "max      2359.000000      37.000000       1.000000       1.000000  "
      ]
     },
     "execution_count": 17,
     "metadata": {},
     "output_type": "execute_result"
    }
   ],
   "source": [
    "df_flights.describe(include='number')"
   ]
  },
  {
   "cell_type": "code",
   "execution_count": null,
   "id": "08c2f781-f43f-485c-8aff-0e2a05041974",
   "metadata": {},
   "outputs": [],
   "source": []
  },
  {
   "cell_type": "markdown",
   "id": "be46c5dd-41b6-4f42-bb86-fc93483d6945",
   "metadata": {},
   "source": [
    "#### Use statistics, aggregate functions, and visualizations to answer the following questions:\n",
    "* What are the average (mean) departure and arrival delays?\n",
    "* How do the carriers compare in terms of arrival delay performance?\n",
    "* Is there a noticable difference in arrival delays for different days of the week?\n",
    "* Which departure airport has the highest average departure delay?\n",
    "* Do late departures tend to result in longer arrival delays than on-time departures?\n",
    "* Which route (from origin airport to destination airport) has the most late arrivals?\n",
    "* Which route has the highest average arrival delay?"
   ]
  },
  {
   "cell_type": "code",
   "execution_count": 18,
   "id": "8b9bd936-b990-43ab-bfad-df08675c3024",
   "metadata": {},
   "outputs": [
    {
     "name": "stdout",
     "output_type": "stream",
     "text": [
      "Average departure delay: 2.315746885384048\n",
      "------------------------------------------------------\n",
      "Average arrival delay: -1.4346241872312715\n"
     ]
    }
   ],
   "source": [
    "#Average depature and arrival delays\n",
    "print(f\"Average departure delay: {df_flights['DepDelay'].mean()}\")\n",
    "print('------------------------------------------------------')\n",
    "print(f\"Average arrival delay: {df_flights['ArrDelay'].mean()}\")"
   ]
  },
  {
   "cell_type": "code",
   "execution_count": 19,
   "id": "6d7cda95-847a-4779-9e4b-bbd5ccdb70df",
   "metadata": {},
   "outputs": [
    {
     "data": {
      "image/png": "[encoded data removed]",
      "text/plain": [
       "<Figure size 576x432 with 1 Axes>"
      ]
     },
     "metadata": {
      "needs_background": "light"
     },
     "output_type": "display_data"
    }
   ],
   "source": [
    "# How do the carriers compare in terms of arrival delay performance\n",
    "carrier_by_ArrDelay = df_flights.groupby(by='Carrier')['ArrDelay'].mean()\n",
    "carrier_by_ArrDelay.plot(kind='bar', rot=0, figsize=(8,6))\n",
    "plt.title('Avergae Arr Delay by Carrier')\n",
    "plt.show()"
   ]
  },
  {
   "cell_type": "markdown",
   "id": "e894a003-8fa3-453f-a42b-940c7fea106a",
   "metadata": {},
   "source": [
    "* **The above plot shows that on an average, most of the carriers arrive ahead of schedule**"
   ]
  },
  {
   "cell_type": "markdown",
   "id": "00ef8641-ef31-4d58-96aa-9b5ca589426b",
   "metadata": {},
   "source": [
    "* Let's see a boxplot for more clarity!"
   ]
  },
  {
   "cell_type": "code",
   "execution_count": 20,
   "id": "49cfa1f6-1734-488e-96e3-e7234f89f835",
   "metadata": {},
   "outputs": [
    {
     "data": {
      "image/png": "[encoded data removed]",
      "text/plain": [
       "<Figure size 720x576 with 1 Axes>"
      ]
     },
     "metadata": {
      "needs_background": "light"
     },
     "output_type": "display_data"
    }
   ],
   "source": [
    "df_flights.boxplot(column='ArrDelay', by='Carrier',figsize=(10,8))\n",
    "plt.show()"
   ]
  },
  {
   "cell_type": "code",
   "execution_count": null,
   "id": "6dd52391-f2ee-4b28-bc7e-b9c96ce3d7b9",
   "metadata": {},
   "outputs": [],
   "source": []
  },
  {
   "cell_type": "markdown",
   "id": "cb5afdf2-5c3d-44e3-a102-e623947ddc9b",
   "metadata": {},
   "source": [
    "#### Is there a noticable difference in arrival delays for different days of the week?"
   ]
  },
  {
   "cell_type": "code",
   "execution_count": 21,
   "id": "dc6b800f-5e9f-4850-a6ab-f0891ec5272e",
   "metadata": {},
   "outputs": [
    {
     "data": {
      "image/png": "[encoded data removed]",
      "text/plain": [
       "<Figure size 720x576 with 1 Axes>"
      ]
     },
     "metadata": {
      "needs_background": "light"
     },
     "output_type": "display_data"
    }
   ],
   "source": [
    "df_flights.boxplot(column='ArrDelay', by='DayOfWeek',figsize=(10,8))\n",
    "plt.show()"
   ]
  },
  {
   "cell_type": "code",
   "execution_count": null,
   "id": "bcaca568-6046-4f7c-b5b9-b51a08206b99",
   "metadata": {},
   "outputs": [],
   "source": []
  },
  {
   "cell_type": "markdown",
   "id": "375559c7-ecb8-4d44-a1b1-85430b807b01",
   "metadata": {},
   "source": [
    "#### Which departure airport has the highest average departure delay?"
   ]
  },
  {
   "cell_type": "code",
   "execution_count": 22,
   "id": "4e2a4050-611a-4880-a6bd-f1d0f1ffba9f",
   "metadata": {},
   "outputs": [
    {
     "data": {
      "text/plain": [
       "<AxesSubplot:xlabel='OriginAirportName'>"
      ]
     },
     "execution_count": 22,
     "metadata": {},
     "output_type": "execute_result"
    },
    {
     "data": {
      "image/png": "[encoded data removed]",
      "text/plain": [
       "<Figure size 1080x720 with 1 Axes>"
      ]
     },
     "metadata": {
      "needs_background": "light"
     },
     "output_type": "display_data"
    }
   ],
   "source": [
    "avg_dep_delay_by_dep_airport = df_flights.groupby('OriginAirportName')['DepDelay'].mean().sort_values(ascending=False)\n",
    "avg_dep_delay_by_dep_airport.plot(kind='bar',figsize=(15,10))"
   ]
  },
  {
   "cell_type": "markdown",
   "id": "a94842fc-50ad-4538-addc-154eb45e8cb9",
   "metadata": {},
   "source": [
    "* That'll be Chicago Midway International"
   ]
  },
  {
   "cell_type": "code",
   "execution_count": 25,
   "id": "e61277fb-fca2-4c5e-893d-2a66b9277623",
   "metadata": {},
   "outputs": [
    {
     "data": {
      "text/html": [
       "<div>\n",
       "<style scoped>\n",
       "    .dataframe tbody tr th:only-of-type {\n",
       "        vertical-align: middle;\n",
       "    }\n",
       "\n",
       "    .dataframe tbody tr th {\n",
       "        vertical-align: top;\n",
       "    }\n",
       "\n",
       "    .dataframe thead th {\n",
       "        text-align: right;\n",
       "    }\n",
       "</style>\n",
       "<table border=\"1\" class=\"dataframe\">\n",
       "  <thead>\n",
       "    <tr style=\"text-align: right;\">\n",
       "      <th></th>\n",
       "      <th>DepDelay</th>\n",
       "    </tr>\n",
       "    <tr>\n",
       "      <th>OriginAirportName</th>\n",
       "      <th></th>\n",
       "    </tr>\n",
       "  </thead>\n",
       "  <tbody>\n",
       "    <tr>\n",
       "      <th>Chicago Midway International</th>\n",
       "      <td>6.563717</td>\n",
       "    </tr>\n",
       "    <tr>\n",
       "      <th>Dallas Love Field</th>\n",
       "      <td>5.388077</td>\n",
       "    </tr>\n",
       "    <tr>\n",
       "      <th>William P Hobby</th>\n",
       "      <td>5.348019</td>\n",
       "    </tr>\n",
       "    <tr>\n",
       "      <th>Baltimore/Washington International Thurgood Marshall</th>\n",
       "      <td>4.593630</td>\n",
       "    </tr>\n",
       "    <tr>\n",
       "      <th>Denver International</th>\n",
       "      <td>4.262430</td>\n",
       "    </tr>\n",
       "    <tr>\n",
       "      <th>...</th>\n",
       "      <td>...</td>\n",
       "    </tr>\n",
       "    <tr>\n",
       "      <th>Memphis International</th>\n",
       "      <td>0.005356</td>\n",
       "    </tr>\n",
       "    <tr>\n",
       "      <th>Ted Stevens Anchorage International</th>\n",
       "      <td>-0.008299</td>\n",
       "    </tr>\n",
       "    <tr>\n",
       "      <th>Cincinnati/Northern Kentucky International</th>\n",
       "      <td>-0.090011</td>\n",
       "    </tr>\n",
       "    <tr>\n",
       "      <th>Kahului Airport</th>\n",
       "      <td>-0.359763</td>\n",
       "    </tr>\n",
       "    <tr>\n",
       "      <th>Long Beach Airport</th>\n",
       "      <td>-0.768473</td>\n",
       "    </tr>\n",
       "  </tbody>\n",
       "</table>\n",
       "<p>70 rows × 1 columns</p>\n",
       "</div>"
      ],
      "text/plain": [
       "                                                    DepDelay\n",
       "OriginAirportName                                           \n",
       "Chicago Midway International                        6.563717\n",
       "Dallas Love Field                                   5.388077\n",
       "William P Hobby                                     5.348019\n",
       "Baltimore/Washington International Thurgood Mar...  4.593630\n",
       "Denver International                                4.262430\n",
       "...                                                      ...\n",
       "Memphis International                               0.005356\n",
       "Ted Stevens Anchorage International                -0.008299\n",
       "Cincinnati/Northern Kentucky International         -0.090011\n",
       "Kahului Airport                                    -0.359763\n",
       "Long Beach Airport                                 -0.768473\n",
       "\n",
       "[70 rows x 1 columns]"
      ]
     },
     "execution_count": 25,
     "metadata": {},
     "output_type": "execute_result"
    }
   ],
   "source": [
    "pd.DataFrame(avg_dep_delay_by_dep_airport)"
   ]
  },
  {
   "cell_type": "code",
   "execution_count": null,
   "id": "e684bbde-e723-432c-8396-7bff7fd122a2",
   "metadata": {},
   "outputs": [],
   "source": []
  },
  {
   "cell_type": "markdown",
   "id": "19ac4984-589d-458f-ae5f-a17864b4c8d8",
   "metadata": {},
   "source": [
    "#### Do late departures tend to result in longer arrival delays than on-time departures?"
   ]
  },
  {
   "cell_type": "code",
   "execution_count": 23,
   "id": "a086e181-dfca-4746-94ad-b8307656d028",
   "metadata": {},
   "outputs": [
    {
     "data": {
      "text/plain": [
       "<AxesSubplot:title={'center':'ArrDelay'}, xlabel='DepDel15'>"
      ]
     },
     "execution_count": 23,
     "metadata": {},
     "output_type": "execute_result"
    },
    {
     "data": {
      "image/png": "[encoded data removed]",
      "text/plain": [
       "<Figure size 576x576 with 1 Axes>"
      ]
     },
     "metadata": {
      "needs_background": "light"
     },
     "output_type": "display_data"
    }
   ],
   "source": [
    "df_flights.boxplot(column='ArrDelay', by='DepDel15', figsize=(8,8))"
   ]
  },
  {
   "cell_type": "markdown",
   "id": "cc7857e0-8f76-4820-94a9-df74a8668610",
   "metadata": {},
   "source": [
    "The above plot shows that late departures most of the times leads to longer arrival delays"
   ]
  },
  {
   "cell_type": "code",
   "execution_count": null,
   "id": "82e8d326-9879-4398-9768-75c6061de6ee",
   "metadata": {},
   "outputs": [],
   "source": []
  },
  {
   "cell_type": "markdown",
   "id": "ff6239fa-c1d2-44ef-8ab0-e06ea73921ac",
   "metadata": {},
   "source": [
    "#### Which route (from origin airport to destination airport) has the most late arrivals?"
   ]
  },
  {
   "cell_type": "code",
   "execution_count": 24,
   "id": "47433f6b-a786-451e-9da3-45be3aedf343",
   "metadata": {},
   "outputs": [
    {
     "data": {
      "text/plain": [
       "OriginAirportName                    DestAirportName                           \n",
       "San Francisco International          Los Angeles International                     145\n",
       "Los Angeles International            San Francisco International                   123\n",
       "McCarran International               Los Angeles International                      90\n",
       "LaGuardia                            Hartsfield-Jackson Atlanta International       84\n",
       "Los Angeles International            McCarran International                         79\n",
       "                                                                                  ... \n",
       "LaGuardia                            Eppley Airfield                                 0\n",
       "Kansas City International            Metropolitan Oakland International              0\n",
       "Ted Stevens Anchorage International  Salt Lake City International                    0\n",
       "Kahului Airport                      Ted Stevens Anchorage International             0\n",
       "San Diego International              Cincinnati/Northern Kentucky International      0\n",
       "Name: ArrDel15, Length: 2474, dtype: int64"
      ]
     },
     "execution_count": 24,
     "metadata": {},
     "output_type": "execute_result"
    }
   ],
   "source": [
    "df_flights.groupby(['OriginAirportName','DestAirportName'])['ArrDel15'].sum().sort_values(ascending=False)"
   ]
  },
  {
   "cell_type": "markdown",
   "id": "21c1c681-31e2-4e0d-a622-807d9a0e7e92",
   "metadata": {},
   "source": [
    "* **The most late arrivals occurs on the San Francisco International to Los Angeles International route**"
   ]
  },
  {
   "cell_type": "code",
   "execution_count": null,
   "id": "e65a9d84-3482-4acb-8436-1319394fcb97",
   "metadata": {},
   "outputs": [],
   "source": []
  },
  {
   "cell_type": "markdown",
   "id": "fa19b7ee-2880-4f99-b84a-65667739380e",
   "metadata": {},
   "source": [
    "#### Which route has the highest average arrival delay?"
   ]
  },
  {
   "cell_type": "code",
   "execution_count": 25,
   "id": "67dcada4-d712-4a8a-a058-502e52dbf65f",
   "metadata": {},
   "outputs": [
    {
     "data": {
      "text/plain": [
       "OriginAirportName                          DestAirportName                     \n",
       "Louis Armstrong New Orleans International  Ronald Reagan Washington National       25.333333\n",
       "Cleveland-Hopkins International            Philadelphia International              16.000000\n",
       "Denver International                       Raleigh-Durham International            14.153846\n",
       "Charlotte Douglas International            General Mitchell International          13.500000\n",
       "Memphis International                      Denver International                    12.925926\n",
       "                                                                                     ...    \n",
       "Eppley Airfield                            LaGuardia                              -16.000000\n",
       "Kahului Airport                            Ted Stevens Anchorage International    -16.000000\n",
       "Denver International                       Kahului Airport                        -17.000000\n",
       "Ted Stevens Anchorage International        George Bush Intercontinental/Houston   -17.000000\n",
       "Logan International                        Port Columbus International            -17.000000\n",
       "Name: ArrDelay, Length: 2474, dtype: float64"
      ]
     },
     "execution_count": 25,
     "metadata": {},
     "output_type": "execute_result"
    }
   ],
   "source": [
    "df_flights.groupby(['OriginAirportName','DestAirportName'])['ArrDelay'].mean().sort_values(ascending=False)"
   ]
  },
  {
   "cell_type": "markdown",
   "id": "71aad501-0a39-4017-baa2-383a78a1c906",
   "metadata": {},
   "source": [
    "* **Louise Armstrong New Orleans to Ronald Reagan Washington has the highest average arrival delay**"
   ]
  },
  {
   "cell_type": "code",
   "execution_count": null,
   "id": "e767a801-8ba2-4f25-b181-3b9335c17c21",
   "metadata": {},
   "outputs": [],
   "source": []
  }
 ],
 "metadata": {
  "kernelspec": {
   "display_name": "Python 3",
   "language": "python",
   "name": "python3"
  },
  "language_info": {
   "codemirror_mode": {
    "name": "ipython",
    "version": 3
   },
   "file_extension": ".py",
   "mimetype": "text/x-python",
   "name": "python",
   "nbconvert_exporter": "python",
   "pygments_lexer": "ipython3",
   "version": "3.9.12"
  }
 },
 "nbformat": 4,
 "nbformat_minor": 5
}
